{
 "cells": [
  {
   "cell_type": "code",
   "execution_count": 158,
   "metadata": {},
   "outputs": [],
   "source": [
    "import numpy as np\n",
    "import pandas as pd\n",
    "import re\n",
    "import os\n",
    "\n",
    "from matplotlib import pyplot as plt\n",
    "%matplotlib inline\n",
    "import seaborn as sns\n",
    "\n",
    "from sklearn.metrics import classification_report,confusion_matrix\n",
    "\n",
    "import torch\n",
    "import torch.nn as nn\n",
    "import torch.nn.functional as F\n",
    "from transformers import PreTrainedTokenizerFast\n",
    "from torch.utils.data import TensorDataset, DataLoader, RandomSampler, SequentialSampler\n",
    "\n",
    "from tqdm import tqdm\n",
    "import time\n",
    "import math\n"
   ]
  },
  {
   "cell_type": "markdown",
   "metadata": {},
   "source": [
    "## Prerequisits\n",
    "\n",
    "* make sure to download and unzip the data files (train,test,test_labels) from [this link](https://drive.google.com/file/d/1NuZ5i6EhRopsy8ngwhRZyQWUPHGsSIWM/view?usp=sharing)\n",
    "* it's recommended that you creata a new `conda environment` by running `conda env --name ENV_NAME` replacing the `ENV_NAME` with a name of your choice, and install the `requirments.txt` by executing `pip install -r requirments.txt`\n",
    "* ℹ️ if you don't want to train the model from scratch, download the `pretrained_bilstm_attn` model from [here](https://drive.google.com/file/d/1NsO26I_VTvnqiJFAVA8J7zECZCB8ONI7/view?usp=sharing)\n"
   ]
  },
  {
   "cell_type": "markdown",
   "metadata": {},
   "source": [
    "## 1. Explanatory Data Analysis\n",
    "\n",
    "visualize the data and understand the distributions "
   ]
  },
  {
   "cell_type": "markdown",
   "metadata": {},
   "source": [
    " ### importing the data from the csv files"
   ]
  },
  {
   "cell_type": "code",
   "execution_count": 2,
   "metadata": {},
   "outputs": [],
   "source": [
    "train_df = pd.read_csv('train.csv')\n",
    "test_df = pd.read_csv('test.csv')\n",
    "y_true = pd.read_csv('test_labels.csv')"
   ]
  },
  {
   "cell_type": "markdown",
   "metadata": {},
   "source": [
    " ### have an idea about the length of the comments strings"
   ]
  },
  {
   "cell_type": "code",
   "execution_count": 3,
   "metadata": {},
   "outputs": [],
   "source": [
    "train_df['number_of_words'] = train_df.comment_text.apply(lambda x: len(x.split()))"
   ]
  },
  {
   "cell_type": "code",
   "execution_count": 4,
   "metadata": {},
   "outputs": [
    {
     "data": {
      "text/html": [
       "<div>\n",
       "<style scoped>\n",
       "    .dataframe tbody tr th:only-of-type {\n",
       "        vertical-align: middle;\n",
       "    }\n",
       "\n",
       "    .dataframe tbody tr th {\n",
       "        vertical-align: top;\n",
       "    }\n",
       "\n",
       "    .dataframe thead th {\n",
       "        text-align: right;\n",
       "    }\n",
       "</style>\n",
       "<table border=\"1\" class=\"dataframe\">\n",
       "  <thead>\n",
       "    <tr style=\"text-align: right;\">\n",
       "      <th></th>\n",
       "      <th>id</th>\n",
       "      <th>comment_text</th>\n",
       "      <th>toxic</th>\n",
       "      <th>severe_toxic</th>\n",
       "      <th>obscene</th>\n",
       "      <th>threat</th>\n",
       "      <th>insult</th>\n",
       "      <th>identity_hate</th>\n",
       "      <th>number_of_words</th>\n",
       "    </tr>\n",
       "  </thead>\n",
       "  <tbody>\n",
       "    <tr>\n",
       "      <th>140904</th>\n",
       "      <td>f207ed074493db15</td>\n",
       "      <td>I AM AN LOSER ==== I AM AN LOSER == == I AM AN...</td>\n",
       "      <td>1</td>\n",
       "      <td>0</td>\n",
       "      <td>0</td>\n",
       "      <td>0</td>\n",
       "      <td>0</td>\n",
       "      <td>0</td>\n",
       "      <td>1411</td>\n",
       "    </tr>\n",
       "    <tr>\n",
       "      <th>4712</th>\n",
       "      <td>0c7c341727488579</td>\n",
       "      <td>do go fuck off bastard\\nDo Yyou Have a life?\\n...</td>\n",
       "      <td>1</td>\n",
       "      <td>1</td>\n",
       "      <td>1</td>\n",
       "      <td>1</td>\n",
       "      <td>1</td>\n",
       "      <td>0</td>\n",
       "      <td>1403</td>\n",
       "    </tr>\n",
       "    <tr>\n",
       "      <th>81295</th>\n",
       "      <td>d970953f86f34327</td>\n",
       "      <td>Take that! \\n\\nIN THE ASS IN THE ASS IN THE AS...</td>\n",
       "      <td>1</td>\n",
       "      <td>1</td>\n",
       "      <td>1</td>\n",
       "      <td>0</td>\n",
       "      <td>0</td>\n",
       "      <td>0</td>\n",
       "      <td>1354</td>\n",
       "    </tr>\n",
       "    <tr>\n",
       "      <th>35817</th>\n",
       "      <td>5fb52a42944da282</td>\n",
       "      <td>What is rong with you u pervert i ahte u just ...</td>\n",
       "      <td>1</td>\n",
       "      <td>0</td>\n",
       "      <td>1</td>\n",
       "      <td>0</td>\n",
       "      <td>1</td>\n",
       "      <td>0</td>\n",
       "      <td>1344</td>\n",
       "    </tr>\n",
       "    <tr>\n",
       "      <th>136531</th>\n",
       "      <td>da687d5226bff7f3</td>\n",
       "      <td>SUCK MY COCK D SUCK MY COCK D SUCK MY COCK D S...</td>\n",
       "      <td>1</td>\n",
       "      <td>1</td>\n",
       "      <td>1</td>\n",
       "      <td>0</td>\n",
       "      <td>1</td>\n",
       "      <td>0</td>\n",
       "      <td>1250</td>\n",
       "    </tr>\n",
       "    <tr>\n",
       "      <th>...</th>\n",
       "      <td>...</td>\n",
       "      <td>...</td>\n",
       "      <td>...</td>\n",
       "      <td>...</td>\n",
       "      <td>...</td>\n",
       "      <td>...</td>\n",
       "      <td>...</td>\n",
       "      <td>...</td>\n",
       "      <td>...</td>\n",
       "    </tr>\n",
       "    <tr>\n",
       "      <th>52475</th>\n",
       "      <td>8c5f7911d56a9a58</td>\n",
       "      <td>User_talk:Blackson#Religious_bias</td>\n",
       "      <td>0</td>\n",
       "      <td>0</td>\n",
       "      <td>0</td>\n",
       "      <td>0</td>\n",
       "      <td>0</td>\n",
       "      <td>0</td>\n",
       "      <td>1</td>\n",
       "    </tr>\n",
       "    <tr>\n",
       "      <th>19815</th>\n",
       "      <td>3452aa44f93b7ee1</td>\n",
       "      <td>(www.ebenefits.va.gov)</td>\n",
       "      <td>0</td>\n",
       "      <td>0</td>\n",
       "      <td>0</td>\n",
       "      <td>0</td>\n",
       "      <td>0</td>\n",
       "      <td>0</td>\n",
       "      <td>1</td>\n",
       "    </tr>\n",
       "    <tr>\n",
       "      <th>130194</th>\n",
       "      <td>b8878c41e3ea8203</td>\n",
       "      <td>hyper_individualist@yahoo.com</td>\n",
       "      <td>0</td>\n",
       "      <td>0</td>\n",
       "      <td>0</td>\n",
       "      <td>0</td>\n",
       "      <td>0</td>\n",
       "      <td>0</td>\n",
       "      <td>1</td>\n",
       "    </tr>\n",
       "    <tr>\n",
       "      <th>93586</th>\n",
       "      <td>fa3a30a329e87055</td>\n",
       "      <td>{{unblock|yo</td>\n",
       "      <td>0</td>\n",
       "      <td>0</td>\n",
       "      <td>0</td>\n",
       "      <td>0</td>\n",
       "      <td>0</td>\n",
       "      <td>0</td>\n",
       "      <td>1</td>\n",
       "    </tr>\n",
       "    <tr>\n",
       "      <th>53787</th>\n",
       "      <td>8fb2aaf04e93061a</td>\n",
       "      <td>92.24.199.233|92.24.199.233]]</td>\n",
       "      <td>0</td>\n",
       "      <td>0</td>\n",
       "      <td>0</td>\n",
       "      <td>0</td>\n",
       "      <td>0</td>\n",
       "      <td>0</td>\n",
       "      <td>1</td>\n",
       "    </tr>\n",
       "  </tbody>\n",
       "</table>\n",
       "<p>159571 rows × 9 columns</p>\n",
       "</div>"
      ],
      "text/plain": [
       "                      id                                       comment_text  \\\n",
       "140904  f207ed074493db15  I AM AN LOSER ==== I AM AN LOSER == == I AM AN...   \n",
       "4712    0c7c341727488579  do go fuck off bastard\\nDo Yyou Have a life?\\n...   \n",
       "81295   d970953f86f34327  Take that! \\n\\nIN THE ASS IN THE ASS IN THE AS...   \n",
       "35817   5fb52a42944da282  What is rong with you u pervert i ahte u just ...   \n",
       "136531  da687d5226bff7f3  SUCK MY COCK D SUCK MY COCK D SUCK MY COCK D S...   \n",
       "...                  ...                                                ...   \n",
       "52475   8c5f7911d56a9a58                  User_talk:Blackson#Religious_bias   \n",
       "19815   3452aa44f93b7ee1                             (www.ebenefits.va.gov)   \n",
       "130194  b8878c41e3ea8203                      hyper_individualist@yahoo.com   \n",
       "93586   fa3a30a329e87055                                       {{unblock|yo   \n",
       "53787   8fb2aaf04e93061a                      92.24.199.233|92.24.199.233]]   \n",
       "\n",
       "        toxic  severe_toxic  obscene  threat  insult  identity_hate  \\\n",
       "140904      1             0        0       0       0              0   \n",
       "4712        1             1        1       1       1              0   \n",
       "81295       1             1        1       0       0              0   \n",
       "35817       1             0        1       0       1              0   \n",
       "136531      1             1        1       0       1              0   \n",
       "...       ...           ...      ...     ...     ...            ...   \n",
       "52475       0             0        0       0       0              0   \n",
       "19815       0             0        0       0       0              0   \n",
       "130194      0             0        0       0       0              0   \n",
       "93586       0             0        0       0       0              0   \n",
       "53787       0             0        0       0       0              0   \n",
       "\n",
       "        number_of_words  \n",
       "140904             1411  \n",
       "4712               1403  \n",
       "81295              1354  \n",
       "35817              1344  \n",
       "136531             1250  \n",
       "...                 ...  \n",
       "52475                 1  \n",
       "19815                 1  \n",
       "130194                1  \n",
       "93586                 1  \n",
       "53787                 1  \n",
       "\n",
       "[159571 rows x 9 columns]"
      ]
     },
     "execution_count": 4,
     "metadata": {},
     "output_type": "execute_result"
    }
   ],
   "source": [
    "train_df.sort_values(by=['number_of_words'],ascending=False)"
   ]
  },
  {
   "cell_type": "markdown",
   "metadata": {},
   "source": [
    "As we can see, a lot of comments are of length 1,2 and 3 etc.. these are all columns we can drop from the dataset\n",
    "as they will usually not play an important role in training the model.\n",
    "we will drop comments of length less than 5."
   ]
  },
  {
   "cell_type": "code",
   "execution_count": 5,
   "metadata": {},
   "outputs": [],
   "source": [
    "train_df = train_df[train_df['number_of_words']>5]"
   ]
  },
  {
   "cell_type": "code",
   "execution_count": 6,
   "metadata": {},
   "outputs": [
    {
     "data": {
      "text/plain": [
       "(152007, 9)"
      ]
     },
     "execution_count": 6,
     "metadata": {},
     "output_type": "execute_result"
    }
   ],
   "source": [
    "train_df.shape"
   ]
  },
  {
   "cell_type": "markdown",
   "metadata": {},
   "source": [
    "Next we can start cleaning some parts of the comments (removing URLs etc)"
   ]
  },
  {
   "cell_type": "code",
   "execution_count": 7,
   "metadata": {},
   "outputs": [
    {
     "data": {
      "text/plain": [
       "(116, 9)"
      ]
     },
     "execution_count": 7,
     "metadata": {},
     "output_type": "execute_result"
    }
   ],
   "source": [
    "train_df[train_df.comment_text.str.contains(r\"^https?:\\/\\/.*[\\r\\n]*\")].shape"
   ]
  },
  {
   "cell_type": "markdown",
   "metadata": {},
   "source": [
    "this part was skipped (will be done later due to troubles in the dataset)"
   ]
  },
  {
   "cell_type": "markdown",
   "metadata": {},
   "source": [
    "### drop the number_of_words column\n",
    "we don't need this column anymore, we will drop it "
   ]
  },
  {
   "cell_type": "code",
   "execution_count": 8,
   "metadata": {},
   "outputs": [],
   "source": [
    "train_df = train_df.drop(labels=['number_of_words'],axis='columns')"
   ]
  },
  {
   "cell_type": "markdown",
   "metadata": {},
   "source": [
    "### get the column names for the target variables \n",
    "these will be used later to create the train,dev and test dataset"
   ]
  },
  {
   "cell_type": "code",
   "execution_count": 9,
   "metadata": {},
   "outputs": [],
   "source": [
    "cols_target = train_df.columns[2:].tolist()"
   ]
  },
  {
   "cell_type": "markdown",
   "metadata": {},
   "source": [
    "### checkout the negative labels percentage in the dataset"
   ]
  },
  {
   "cell_type": "code",
   "execution_count": 10,
   "metadata": {},
   "outputs": [
    {
     "name": "stdout",
     "output_type": "stream",
     "text": [
      "Percentage of unlabelled comments is  90.04387955817825\n"
     ]
    }
   ],
   "source": [
    "unlabelled_in_all = train_df[(train_df['toxic']!=1) & (train_df['severe_toxic']!=1) & (train_df['obscene']!=1) & \n",
    "                            (train_df['threat']!=1) & (train_df['insult']!=1) & (train_df['identity_hate']!=1)]\n",
    "print('Percentage of unlabelled comments is ', len(unlabelled_in_all)/len(train_df)*100)"
   ]
  },
  {
   "cell_type": "markdown",
   "metadata": {},
   "source": [
    "### check if and row doet not have comment_text "
   ]
  },
  {
   "cell_type": "code",
   "execution_count": 11,
   "metadata": {},
   "outputs": [
    {
     "data": {
      "text/plain": [
       "0"
      ]
     },
     "execution_count": 11,
     "metadata": {},
     "output_type": "execute_result"
    }
   ],
   "source": [
    "no_comment = train_df[train_df['comment_text'].isnull()]\n",
    "len(no_comment)"
   ]
  },
  {
   "cell_type": "code",
   "execution_count": 12,
   "metadata": {},
   "outputs": [
    {
     "data": {
      "text/html": [
       "<div>\n",
       "<style scoped>\n",
       "    .dataframe tbody tr th:only-of-type {\n",
       "        vertical-align: middle;\n",
       "    }\n",
       "\n",
       "    .dataframe tbody tr th {\n",
       "        vertical-align: top;\n",
       "    }\n",
       "\n",
       "    .dataframe thead th {\n",
       "        text-align: right;\n",
       "    }\n",
       "</style>\n",
       "<table border=\"1\" class=\"dataframe\">\n",
       "  <thead>\n",
       "    <tr style=\"text-align: right;\">\n",
       "      <th></th>\n",
       "      <th>id</th>\n",
       "      <th>comment_text</th>\n",
       "    </tr>\n",
       "  </thead>\n",
       "  <tbody>\n",
       "    <tr>\n",
       "      <th>0</th>\n",
       "      <td>00001cee341fdb12</td>\n",
       "      <td>Yo bitch Ja Rule is more succesful then you'll...</td>\n",
       "    </tr>\n",
       "    <tr>\n",
       "      <th>1</th>\n",
       "      <td>0000247867823ef7</td>\n",
       "      <td>== From RfC == \\n\\n The title is fine as it is...</td>\n",
       "    </tr>\n",
       "    <tr>\n",
       "      <th>2</th>\n",
       "      <td>00013b17ad220c46</td>\n",
       "      <td>\" \\n\\n == Sources == \\n\\n * Zawe Ashton on Lap...</td>\n",
       "    </tr>\n",
       "    <tr>\n",
       "      <th>3</th>\n",
       "      <td>00017563c3f7919a</td>\n",
       "      <td>:If you have a look back at the source, the in...</td>\n",
       "    </tr>\n",
       "    <tr>\n",
       "      <th>4</th>\n",
       "      <td>00017695ad8997eb</td>\n",
       "      <td>I don't anonymously edit articles at all.</td>\n",
       "    </tr>\n",
       "  </tbody>\n",
       "</table>\n",
       "</div>"
      ],
      "text/plain": [
       "                 id                                       comment_text\n",
       "0  00001cee341fdb12  Yo bitch Ja Rule is more succesful then you'll...\n",
       "1  0000247867823ef7  == From RfC == \\n\\n The title is fine as it is...\n",
       "2  00013b17ad220c46  \" \\n\\n == Sources == \\n\\n * Zawe Ashton on Lap...\n",
       "3  00017563c3f7919a  :If you have a look back at the source, the in...\n",
       "4  00017695ad8997eb          I don't anonymously edit articles at all."
      ]
     },
     "execution_count": 12,
     "metadata": {},
     "output_type": "execute_result"
    }
   ],
   "source": [
    "test_df.head()"
   ]
  },
  {
   "cell_type": "code",
   "execution_count": 13,
   "metadata": {},
   "outputs": [
    {
     "data": {
      "text/html": [
       "<div>\n",
       "<style scoped>\n",
       "    .dataframe tbody tr th:only-of-type {\n",
       "        vertical-align: middle;\n",
       "    }\n",
       "\n",
       "    .dataframe tbody tr th {\n",
       "        vertical-align: top;\n",
       "    }\n",
       "\n",
       "    .dataframe thead th {\n",
       "        text-align: right;\n",
       "    }\n",
       "</style>\n",
       "<table border=\"1\" class=\"dataframe\">\n",
       "  <thead>\n",
       "    <tr style=\"text-align: right;\">\n",
       "      <th></th>\n",
       "      <th>id</th>\n",
       "      <th>comment_text</th>\n",
       "    </tr>\n",
       "  </thead>\n",
       "  <tbody>\n",
       "  </tbody>\n",
       "</table>\n",
       "</div>"
      ],
      "text/plain": [
       "Empty DataFrame\n",
       "Columns: [id, comment_text]\n",
       "Index: []"
      ]
     },
     "execution_count": 13,
     "metadata": {},
     "output_type": "execute_result"
    }
   ],
   "source": [
    "no_comment = test_df[test_df['comment_text'].isnull()]\n",
    "no_comment"
   ]
  },
  {
   "cell_type": "markdown",
   "metadata": {},
   "source": [
    "### checking the labels and rows counts "
   ]
  },
  {
   "cell_type": "code",
   "execution_count": 14,
   "metadata": {},
   "outputs": [
    {
     "name": "stdout",
     "output_type": "stream",
     "text": [
      "Total rows in test is 153164\n",
      "Total rows in train is 152007\n",
      "toxic            14234\n",
      "severe_toxic      1447\n",
      "obscene           7760\n",
      "threat             462\n",
      "insult            7268\n",
      "identity_hate     1306\n",
      "dtype: int64\n"
     ]
    }
   ],
   "source": [
    "print('Total rows in test is {}'.format(len(test_df)))\n",
    "print('Total rows in train is {}'.format(len(train_df)))\n",
    "print(train_df[cols_target].sum())"
   ]
  },
  {
   "cell_type": "markdown",
   "metadata": {},
   "source": [
    "### visualize the labels correlation"
   ]
  },
  {
   "cell_type": "code",
   "execution_count": 15,
   "metadata": {},
   "outputs": [],
   "source": [
    "train_df_corr= train_df[cols_target].corr()"
   ]
  },
  {
   "cell_type": "code",
   "execution_count": 16,
   "metadata": {},
   "outputs": [],
   "source": [
    "mask = np.triu(np.ones_like(train_df_corr, dtype=np.bool))"
   ]
  },
  {
   "cell_type": "code",
   "execution_count": 17,
   "metadata": {},
   "outputs": [
    {
     "data": {
      "image/png": "[encoded data removed]",
      "text/plain": [
       "<Figure size 864x576 with 2 Axes>"
      ]
     },
     "metadata": {
      "needs_background": "light"
     },
     "output_type": "display_data"
    }
   ],
   "source": [
    "plt.figure(figsize=(12,8))\n",
    "heatmap = sns.heatmap(train_df_corr,mask=mask, linewidths=0.1, vmin=0, vmax=1,cmap='BrBG',annot=True,square=True)\n",
    "heatmap.set_title('Correlation Heatmap', fontdict={'fontsize':12}, pad=12);\n"
   ]
  },
  {
   "cell_type": "markdown",
   "metadata": {},
   "source": [
    "As we can see from the heatmap above, labels like `Toxic`,`Insult` and `Obscene` are highlt coorelated compared to other labels (i.e. they appear as labels for comments much often than the other comments)"
   ]
  },
  {
   "cell_type": "markdown",
   "metadata": {},
   "source": [
    "## 2. Deep Learning part (BiLSTM with Attention & Binary Relevance)\n"
   ]
  },
  {
   "cell_type": "markdown",
   "metadata": {},
   "source": [
    "the structure of the model is shown below, a BiLSTM with Attention model was used to implement this task of multi-label classification\n",
    "\n",
    "there are a total of 6 models (one for each label) in the final model, following the binary relevance method to solve multi-label classification\n",
    "<img src=\"./bilstm_attn.jpeg\" width=\"800\" >\n"
   ]
  },
  {
   "cell_type": "markdown",
   "metadata": {},
   "source": [
    " ### Preprocessing \n",
    " \n",
    "the tokenizer `PreTrainedTokenizerFast` was used to tokenize and transform the sequences into integer sequences which we will use later to index and Embedding Matrix "
   ]
  },
  {
   "cell_type": "code",
   "execution_count": 18,
   "metadata": {},
   "outputs": [],
   "source": [
    "tokenizer = PreTrainedTokenizerFast.from_pretrained('bert-base-uncased')\n"
   ]
  },
  {
   "cell_type": "code",
   "execution_count": 19,
   "metadata": {},
   "outputs": [
    {
     "data": {
      "text/plain": [
       "0"
      ]
     },
     "execution_count": 19,
     "metadata": {},
     "output_type": "execute_result"
    }
   ],
   "source": [
    "tokenizer.add_special_tokens({'pad_token': '[PAD]'})"
   ]
  },
  {
   "cell_type": "code",
   "execution_count": 20,
   "metadata": {},
   "outputs": [],
   "source": [
    "def prepare_set(dataset, max_length=64):\n",
    "    \"\"\"returns input_ids, input_masks, labels for set of data ready in BERT format\"\"\"\n",
    "    global tokenizer\n",
    "    \n",
    "    input_ids = dataset\n",
    "#     for i in tqdm(dataset):\n",
    "#         input_ids.append(camel_case_split(i))\n",
    "    tokenized = tokenizer.batch_encode_plus(input_ids,return_token_type_ids=False, return_attention_mask=False, pad_to_max_length=True,truncation=True, max_length=max_length)[\"input_ids\"]\n",
    "    return tokenized"
   ]
  },
  {
   "cell_type": "markdown",
   "metadata": {},
   "source": [
    "### hyperparameters\n"
   ]
  },
  {
   "cell_type": "code",
   "execution_count": 51,
   "metadata": {},
   "outputs": [],
   "source": [
    "max_length = 64\n",
    "hidden_size=64\n",
    "batch_size = 32\n",
    "n_epochs = 4\n",
    "embed_size = 64\n",
    "lr = 0.001\n",
    "model_path = \"BiLSTM_attention_BiRel.pt\"\n",
    "use_gpu = True\n",
    "dev_size = int(train_df.shape[0] * 0.10)"
   ]
  },
  {
   "cell_type": "markdown",
   "metadata": {},
   "source": [
    "### checking if there exists a GPU on the machine to use it\n"
   ]
  },
  {
   "cell_type": "code",
   "execution_count": 22,
   "metadata": {},
   "outputs": [],
   "source": [
    "#device config\n",
    "device =  torch.device('cuda' if torch.cuda.is_available() and use_gpu else 'cpu')"
   ]
  },
  {
   "cell_type": "code",
   "execution_count": 23,
   "metadata": {},
   "outputs": [],
   "source": [
    "class Attention(nn.Module):\n",
    "    \"\"\"a Single Attention Layer\"\"\"\n",
    "    def __init__(self, feature_dim):\n",
    "        super(Attention, self).__init__()\n",
    "        \n",
    "        self.supports_masking = True\n",
    "        self.feature_dim = feature_dim\n",
    "        weight = torch.zeros(feature_dim, 1)\n",
    "        nn.init.xavier_uniform_(weight)\n",
    "        self.weight = nn.Parameter(weight)\n",
    "    \n",
    "    def forward(self, x, step_dim, mask=None):\n",
    "        feature_dim = self.feature_dim\n",
    "        eij = torch.mm(\n",
    "            x.contiguous().view(-1, feature_dim), self.weight\n",
    "        ).view(-1, step_dim)\n",
    "        eij = torch.tanh(eij)\n",
    "        a = torch.exp(eij)\n",
    "        if mask is not None:\n",
    "            a = a * mask\n",
    "        a = a / torch.sum(a, 1, keepdim=True) + 1e-10\n",
    "        weighted_input = x * torch.unsqueeze(a, -1)\n",
    "        return torch.sum(weighted_input, 1), torch.unsqueeze(a, -1)\n",
    "\n",
    "\n",
    "class BiLSTMWithAttention(nn.Module):\n",
    "    \"\"\"the BiLSTM model refer to the image above to understand the structure of the model\"\"\"\n",
    "    def __init__(self,hidden_size,embed_size,max_features,num_classes,max_length):\n",
    "        super().__init__()\n",
    "        self.embedding = nn.Embedding(max_features, embed_size)\n",
    "        self.lstm1 = nn.LSTM(embed_size, hidden_size, bidirectional=True, batch_first=True)\n",
    "        \n",
    "        self.lstm2 = nn.LSTM(hidden_size * 2, hidden_size, bidirectional=True, batch_first=True)\n",
    "        \n",
    "        self.lstm_attention = Attention(hidden_size * 2)\n",
    "        \n",
    "        self.linear1 = nn.Linear(hidden_size*6, hidden_size*6)\n",
    "        self.linear2 = nn.Linear(hidden_size*6, hidden_size*6)\n",
    "        \n",
    "        self.linear_out = nn.Linear(hidden_size*6, 1)\n",
    "        self.linear_aux_out = nn.Linear(hidden_size*6, num_classes)\n",
    "    \n",
    "    def forward(self, x, step_len):\n",
    "        h_embedding = self.embedding(x)\n",
    "        h_lstm1, _ = self.lstm1(h_embedding)\n",
    "        h_lstm2, _ = self.lstm2(h_lstm1)\n",
    "        #Attention layer\n",
    "        h_lstm_atten, weights = self.lstm_attention(h_lstm2, max_length)\n",
    "        # global average pooling\n",
    "        avg_pool = torch.mean(h_lstm2, 1)\n",
    "        # global max pooling\n",
    "        max_pool, _ = torch.max(h_lstm2, 1)\n",
    "        h_conc = torch.cat((h_lstm_atten, max_pool, avg_pool), 1)\n",
    "        h_conc_linear1 = F.relu(self.linear1(h_conc))\n",
    "        h_conc_linear2 = F.relu(self.linear2(h_conc))\n",
    "        \n",
    "        hidden = h_conc + h_conc_linear1 + h_conc_linear2\n",
    "        result = self.linear_out(hidden)\n",
    "        aux_result = self.linear_aux_out(hidden)\n",
    "#         out = torch.cat([result, aux_result], 1)\n",
    "#         print(f\"out : {out.shape}\")\n",
    "#         return out, weights\n",
    "        return aux_result, weights\n"
   ]
  },
  {
   "cell_type": "markdown",
   "metadata": {},
   "source": [
    "### The training Loop\n",
    "\n",
    "* mini batching was used to increase the performance\n",
    "* because this is a multi-label classification problem, a proper criterion needed to be chosen, in this case it was BCEWithLogitsLoss (which is the BCE with sigmoid implemented internally)"
   ]
  },
  {
   "cell_type": "code",
   "execution_count": 52,
   "metadata": {},
   "outputs": [],
   "source": [
    "def train_model(models, loss_fn, lr=0.001, batch_size=32, n_epochs=10,max_length=64):\n",
    "    for col in cols_target:\n",
    "        models[col]['param_lrs'] = [{'params': param, 'lr': lr} for param in models[col]['model'].parameters()]\n",
    "        models[col]['optimizer'] = torch.optim.Adam(models[col]['param_lrs'], lr=lr)\n",
    "        models[col]['training_loss'] = []\n",
    "        models[col]['validation_loss'] = []\n",
    "\n",
    "    \n",
    "    \n",
    "    for model_index,target_label in enumerate(cols_target):\n",
    "        print(\"=\"*50)\n",
    "        print(f\"training {target_label} model....\")\n",
    "        models[target_label]['model'].to(device)\n",
    "        \n",
    "        best_loss = float(\"inf\")\n",
    "        \n",
    "        for epoch in range(n_epochs):\n",
    "            start_time = time.time()\n",
    "\n",
    "            models[target_label]['model'].train()\n",
    "            avg_loss = 0\n",
    "\n",
    "            for data in tqdm(train_dataloader, disable=False):\n",
    "                x_batch = data[:-1]\n",
    "                y_batch = data[-1][:,model_index].unsqueeze(1)\n",
    "\n",
    "                y_pred, _ = models[target_label]['model'](*x_batch, max_length)\n",
    "                \n",
    "                loss = nn.BCEWithLogitsLoss()(y_pred,y_batch)\n",
    "                models[target_label]['optimizer'].zero_grad()\n",
    "                loss.backward()\n",
    "                models[target_label]['optimizer'].step()\n",
    "                avg_loss += loss.item() / len(train_dataloader)\n",
    "\n",
    "            models[target_label]['training_loss'].append(avg_loss)\n",
    "            models[target_label]['model'].eval()\n",
    "            \n",
    "            print(f'... Validating ... ')\n",
    "            \n",
    "            avg_val_loss = 0\n",
    "            \n",
    "            for val_data in tqdm(dev_dataloader, disable=False):\n",
    "                x_batch = val_data[:-1]\n",
    "                y_batch = val_data[-1][:,model_index].unsqueeze(1)\n",
    "\n",
    "                y_pred, _ = models[target_label]['model'](*x_batch, max_length)\n",
    "\n",
    "                val_loss = nn.BCEWithLogitsLoss()(y_pred, y_batch)\n",
    "                avg_val_loss += val_loss.item() / len(dev_dataloader)\n",
    "\n",
    "            elapsed_time = time.time() - start_time\n",
    "            models[target_label]['validation_loss'].append(avg_val_loss)\n",
    "            \n",
    "            if avg_val_loss < best_loss:\n",
    "                print('saving the best model so far')\n",
    "                best_loss = avg_val_loss\n",
    "                torch.save(models[target_label]['model'].state_dict(), target_label+'_model.pt')\n",
    "            print(f'Epoch {epoch + 1}/{n_epochs}\\t training_loss={avg_loss:.4f} \\t validation_loss={avg_val_loss: 4f} \\t time={elapsed_time:.2f}s')\n",
    "    \n",
    "    models.clear()\n",
    "    \n",
    "    models = {\n",
    "        'toxic':{},\n",
    "        'severe_toxic':{},\n",
    "        'obscene':{},\n",
    "        'threat':{},\n",
    "        'insult':{},\n",
    "        'identity_hate':{}\n",
    "    }\n",
    "    \n",
    "    \n",
    "    print(\"loading best models .... \")\n",
    "    for target_label in cols_target:\n",
    "        # load each best model into its corresponding dict key\n",
    "        models[target_label]['model'] = BiLSTMWithAttention(hidden_size=hidden_size,\n",
    "                        embed_size=embed_size,\n",
    "                        max_features=tokenizer.vocab_size,\n",
    "                        num_classes=1,\n",
    "                        max_length=max_length)\n",
    "        models[target_label]['model'].load_state_dict(torch.load(target_label+'_model.pt'))\n",
    "        os.remove(target_label+'_model.pt')\n",
    "    \n",
    "    print(\"saving best models into a single file .... \")\n",
    "    # saving all models in a single model file\n",
    "    torch.save({\n",
    "            'toxic': models['toxic']['model'].state_dict(),\n",
    "            'severe_toxic': models['severe_toxic']['model'].state_dict(),\n",
    "            'obscene': models['obscene']['model'].state_dict(),\n",
    "            'threat': models['threat']['model'].state_dict(),\n",
    "            'insult': models['insult']['model'].state_dict(),\n",
    "            'identity_hate': models['identity_hate']['model'].state_dict(),\n",
    "            }, model_path)\n",
    "    "
   ]
  },
  {
   "cell_type": "markdown",
   "metadata": {},
   "source": [
    "### The evaulating/testing part\n",
    "\n",
    "* each time a mini batch is run through the model and the corresponding weigts are saved and column-summed to get the count of True Positive labels"
   ]
  },
  {
   "cell_type": "code",
   "execution_count": 104,
   "metadata": {},
   "outputs": [],
   "source": [
    "def evaluate(models):\n",
    "    for model_index,target_label in enumerate(cols_target):\n",
    "        \n",
    "        print(\"=\"*40)\n",
    "        print(f\"evaluating {target_label} model .... \")\n",
    "        \n",
    "        y_preds = []\n",
    "        y_trues = []\n",
    "        \n",
    "        models[col]['model'].eval()\n",
    "        with torch.no_grad():\n",
    "            for tst_data in tqdm(test_dataloader, disable=False):\n",
    "                x_batch = tst_data[:-1]\n",
    "                y_batch_labels = tst_data[-1][:,model_index].detach().cpu().numpy()\n",
    "\n",
    "                y_pred, _ = models[col]['model'](*x_batch, max_length)\n",
    "\n",
    "                y_pred_labels = (torch.sigmoid(y_pred).detach().cpu().numpy() > 0.5)\n",
    "\n",
    "                y_preds.extend(y_pred_labels.squeeze(1))\n",
    "                y_trues.extend(y_batch_labels)\n",
    "        \n",
    "        print(confusion_matrix(y_true=y_trues,y_pred=y_preds))\n",
    "        print(classification_report(y_trues,y_preds))\n"
   ]
  },
  {
   "cell_type": "markdown",
   "metadata": {},
   "source": [
    "### Preparing the datasets\n",
    "\n",
    "* a portion specified by dev_size is taken from the training dataframe to be used as a dev set, this would help us after each epoch to see how our model is doing (i.e. generalizing the model)\n",
    "* each data is tokenized and turned into sequence ids and converted into torch.tensors"
   ]
  },
  {
   "cell_type": "code",
   "execution_count": 26,
   "metadata": {},
   "outputs": [],
   "source": [
    "train_df_cpy = train_df[dev_size:]\n",
    "dev_df_cpy = train_df[:dev_size]\n",
    "test_df_cpy = test_df\n",
    "y_true_cpy = y_true"
   ]
  },
  {
   "cell_type": "code",
   "execution_count": 27,
   "metadata": {},
   "outputs": [
    {
     "name": "stdout",
     "output_type": "stream",
     "text": [
      "preprocessing training data...\n"
     ]
    },
    {
     "name": "stderr",
     "output_type": "stream",
     "text": [
      "/home/madbulattif18/anaconda3/envs/myenv/lib/python3.7/site-packages/transformers/tokenization_utils_base.py:2143: FutureWarning: The `pad_to_max_length` argument is deprecated and will be removed in a future version, use `padding=True` or `padding='longest'` to pad to the longest sequence in the batch, or use `padding='max_length'` to pad to a max length. In this case, you can give a specific length with `max_length` (e.g. `max_length=45`) or leave max_length to None to pad to the maximal input size of the model (e.g. 512 for Bert).\n",
      "  FutureWarning,\n"
     ]
    },
    {
     "name": "stdout",
     "output_type": "stream",
     "text": [
      "preprocessing training data...\n",
      "preprocessing test data...\n"
     ]
    },
    {
     "name": "stderr",
     "output_type": "stream",
     "text": [
      "/home/madbulattif18/anaconda3/envs/myenv/lib/python3.7/site-packages/transformers/tokenization_utils_base.py:2143: FutureWarning: The `pad_to_max_length` argument is deprecated and will be removed in a future version, use `padding=True` or `padding='longest'` to pad to the longest sequence in the batch, or use `padding='max_length'` to pad to a max length. In this case, you can give a specific length with `max_length` (e.g. `max_length=45`) or leave max_length to None to pad to the maximal input size of the model (e.g. 512 for Bert).\n",
      "  FutureWarning,\n"
     ]
    }
   ],
   "source": [
    "print(\"preprocessing training data...\")\n",
    "X_train = prepare_set(train_df_cpy['comment_text'].values.tolist())\n",
    "\n",
    "print(\"preprocessing training data...\")\n",
    "X_dev = prepare_set(dev_df_cpy['comment_text'].values.tolist())\n",
    "\n",
    "print(\"preprocessing test data...\")\n",
    "test_df = pd.merge(test_df_cpy,y_true_cpy,on='id')\n",
    "# -1 labels mean that those lines were not used for the scoring \n",
    "test_df = test_df[test_df[\"toxic\"] >= 0]\n",
    "\n",
    "X_test = prepare_set(test_df['comment_text'].values.tolist())\n"
   ]
  },
  {
   "cell_type": "code",
   "execution_count": 28,
   "metadata": {},
   "outputs": [],
   "source": [
    "y_train = train_df_cpy[cols_target].values\n",
    "y_dev = dev_df_cpy[cols_target].values\n",
    "y_test = test_df[cols_target].values\n"
   ]
  },
  {
   "cell_type": "code",
   "execution_count": 29,
   "metadata": {},
   "outputs": [],
   "source": [
    "x_train_torch = torch.tensor(X_train, dtype=torch.long).to(device)\n",
    "x_dev_torch = torch.tensor(X_dev, dtype=torch.long).to(device)\n",
    "x_test_torch = torch.tensor(X_test, dtype=torch.long).to(device)"
   ]
  },
  {
   "cell_type": "code",
   "execution_count": 30,
   "metadata": {},
   "outputs": [],
   "source": [
    "# y_train_torch = torch.tensor(np.hstack([y_train, y_aux_train]), dtype=torch.float32).to(device)\n",
    "y_train_torch = torch.tensor(y_train,dtype=torch.float).to(device)\n",
    "y_dev_torch = torch.tensor(y_dev, dtype=torch.float).to(device)\n",
    "# y_val_torch = torch.tensor(np.hstack([y_val, y_aux_val]), dtype=torch.float32).to(device)\n",
    "y_test_torch = torch.tensor(y_test,dtype=torch.float).to(device)"
   ]
  },
  {
   "cell_type": "markdown",
   "metadata": {},
   "source": [
    "### Creating dataloaders\n"
   ]
  },
  {
   "cell_type": "code",
   "execution_count": 31,
   "metadata": {},
   "outputs": [],
   "source": [
    "# Create the DataLoader for training set\n",
    "train_data = TensorDataset(x_train_torch, y_train_torch)\n",
    "train_sampler = RandomSampler(train_data)\n",
    "train_dataloader = DataLoader(train_data, sampler=train_sampler, batch_size=batch_size)"
   ]
  },
  {
   "cell_type": "code",
   "execution_count": 32,
   "metadata": {},
   "outputs": [],
   "source": [
    "# Create the DataLoader for dev set\n",
    "dev_data = TensorDataset(x_dev_torch, y_dev_torch)\n",
    "dev_sampler = RandomSampler(dev_data)\n",
    "dev_dataloader = DataLoader(dev_data, sampler=dev_sampler, batch_size=batch_size)"
   ]
  },
  {
   "cell_type": "code",
   "execution_count": 33,
   "metadata": {},
   "outputs": [],
   "source": [
    "# Create the DataLoader for dev set.\n",
    "test_data = TensorDataset(x_test_torch, y_test_torch)\n",
    "test_sampler = SequentialSampler(test_data)\n",
    "test_dataloader = DataLoader(test_data, sampler=test_sampler, batch_size=batch_size)"
   ]
  },
  {
   "cell_type": "code",
   "execution_count": 40,
   "metadata": {},
   "outputs": [],
   "source": [
    "models = {\n",
    "    'toxic':{},\n",
    "    'severe_toxic':{},\n",
    "    'obscene':{},\n",
    "    'threat':{},\n",
    "    'insult':{},\n",
    "    'identity_hate':{}\n",
    "}"
   ]
  },
  {
   "cell_type": "code",
   "execution_count": 54,
   "metadata": {},
   "outputs": [],
   "source": [
    "for col in cols_target:\n",
    "    models[col]['model'] = BiLSTMWithAttention(hidden_size=hidden_size,\n",
    "                            embed_size=embed_size,\n",
    "                            max_features=tokenizer.vocab_size,\n",
    "                            num_classes=1,\n",
    "                            max_length=max_length)"
   ]
  },
  {
   "cell_type": "code",
   "execution_count": 55,
   "metadata": {},
   "outputs": [
    {
     "data": {
      "text/plain": [
       "{'toxic': {'model': BiLSTMWithAttention(\n",
       "    (embedding): Embedding(30522, 64)\n",
       "    (lstm1): LSTM(64, 64, batch_first=True, bidirectional=True)\n",
       "    (lstm2): LSTM(128, 64, batch_first=True, bidirectional=True)\n",
       "    (lstm_attention): Attention()\n",
       "    (linear1): Linear(in_features=384, out_features=384, bias=True)\n",
       "    (linear2): Linear(in_features=384, out_features=384, bias=True)\n",
       "    (linear_out): Linear(in_features=384, out_features=1, bias=True)\n",
       "    (linear_aux_out): Linear(in_features=384, out_features=1, bias=True)\n",
       "  )},\n",
       " 'severe_toxic': {'model': BiLSTMWithAttention(\n",
       "    (embedding): Embedding(30522, 64)\n",
       "    (lstm1): LSTM(64, 64, batch_first=True, bidirectional=True)\n",
       "    (lstm2): LSTM(128, 64, batch_first=True, bidirectional=True)\n",
       "    (lstm_attention): Attention()\n",
       "    (linear1): Linear(in_features=384, out_features=384, bias=True)\n",
       "    (linear2): Linear(in_features=384, out_features=384, bias=True)\n",
       "    (linear_out): Linear(in_features=384, out_features=1, bias=True)\n",
       "    (linear_aux_out): Linear(in_features=384, out_features=1, bias=True)\n",
       "  )},\n",
       " 'obscene': {'model': BiLSTMWithAttention(\n",
       "    (embedding): Embedding(30522, 64)\n",
       "    (lstm1): LSTM(64, 64, batch_first=True, bidirectional=True)\n",
       "    (lstm2): LSTM(128, 64, batch_first=True, bidirectional=True)\n",
       "    (lstm_attention): Attention()\n",
       "    (linear1): Linear(in_features=384, out_features=384, bias=True)\n",
       "    (linear2): Linear(in_features=384, out_features=384, bias=True)\n",
       "    (linear_out): Linear(in_features=384, out_features=1, bias=True)\n",
       "    (linear_aux_out): Linear(in_features=384, out_features=1, bias=True)\n",
       "  )},\n",
       " 'threat': {'model': BiLSTMWithAttention(\n",
       "    (embedding): Embedding(30522, 64)\n",
       "    (lstm1): LSTM(64, 64, batch_first=True, bidirectional=True)\n",
       "    (lstm2): LSTM(128, 64, batch_first=True, bidirectional=True)\n",
       "    (lstm_attention): Attention()\n",
       "    (linear1): Linear(in_features=384, out_features=384, bias=True)\n",
       "    (linear2): Linear(in_features=384, out_features=384, bias=True)\n",
       "    (linear_out): Linear(in_features=384, out_features=1, bias=True)\n",
       "    (linear_aux_out): Linear(in_features=384, out_features=1, bias=True)\n",
       "  )},\n",
       " 'insult': {'model': BiLSTMWithAttention(\n",
       "    (embedding): Embedding(30522, 64)\n",
       "    (lstm1): LSTM(64, 64, batch_first=True, bidirectional=True)\n",
       "    (lstm2): LSTM(128, 64, batch_first=True, bidirectional=True)\n",
       "    (lstm_attention): Attention()\n",
       "    (linear1): Linear(in_features=384, out_features=384, bias=True)\n",
       "    (linear2): Linear(in_features=384, out_features=384, bias=True)\n",
       "    (linear_out): Linear(in_features=384, out_features=1, bias=True)\n",
       "    (linear_aux_out): Linear(in_features=384, out_features=1, bias=True)\n",
       "  )},\n",
       " 'identity_hate': {'model': BiLSTMWithAttention(\n",
       "    (embedding): Embedding(30522, 64)\n",
       "    (lstm1): LSTM(64, 64, batch_first=True, bidirectional=True)\n",
       "    (lstm2): LSTM(128, 64, batch_first=True, bidirectional=True)\n",
       "    (lstm_attention): Attention()\n",
       "    (linear1): Linear(in_features=384, out_features=384, bias=True)\n",
       "    (linear2): Linear(in_features=384, out_features=384, bias=True)\n",
       "    (linear_out): Linear(in_features=384, out_features=1, bias=True)\n",
       "    (linear_aux_out): Linear(in_features=384, out_features=1, bias=True)\n",
       "  )}}"
      ]
     },
     "execution_count": 55,
     "metadata": {},
     "output_type": "execute_result"
    }
   ],
   "source": [
    "models"
   ]
  },
  {
   "cell_type": "markdown",
   "metadata": {},
   "source": [
    "### Training the model\n",
    "\n",
    "if you want to train the model from scratch, umcomment the next cell, otherwise you might opt to load the pretrained model (link shown in the prerequsits)"
   ]
  },
  {
   "cell_type": "code",
   "execution_count": null,
   "metadata": {},
   "outputs": [],
   "source": [
    "# train models returns the trained models\n",
    "#train_model(models=models,loss_fn=None,lr=lr,batch_size=batch_size,n_epochs=n_epochs,max_length=max_length)"
   ]
  },
  {
   "cell_type": "markdown",
   "metadata": {},
   "source": [
    "### Loading the pretrained models\n",
    "make sure that you have downloaded the model, and put it in the same directory as the notebook"
   ]
  },
  {
   "cell_type": "code",
   "execution_count": null,
   "metadata": {},
   "outputs": [],
   "source": [
    "#loading the single file that contains the 6 models\n",
    "models_single_file = torch.load(model_path)"
   ]
  },
  {
   "cell_type": "code",
   "execution_count": 75,
   "metadata": {},
   "outputs": [],
   "source": [
    "# putting each model into its corresponding key in the dictionary, and load them into the GPU\n",
    "for col in cols_target:\n",
    "    models[col]['model'].load_state_dict(models_single_file[col])\n",
    "    models[col]['model'].to(device)"
   ]
  },
  {
   "cell_type": "markdown",
   "metadata": {},
   "source": [
    "### Evaluating each model on the test set"
   ]
  },
  {
   "cell_type": "code",
   "execution_count": 105,
   "metadata": {
    "scrolled": false
   },
   "outputs": [
    {
     "name": "stderr",
     "output_type": "stream",
     "text": [
      "  1%|          | 12/2000 [00:00<00:17, 113.51it/s]"
     ]
    },
    {
     "name": "stdout",
     "output_type": "stream",
     "text": [
      "========================================\n",
      "evaluating toxic model .... \n"
     ]
    },
    {
     "name": "stderr",
     "output_type": "stream",
     "text": [
      "100%|██████████| 2000/2000 [00:09<00:00, 216.58it/s]\n",
      "  0%|          | 0/2000 [00:00<?, ?it/s]"
     ]
    },
    {
     "name": "stdout",
     "output_type": "stream",
     "text": [
      "[[57885     3]\n",
      " [ 5977   113]]\n",
      "              precision    recall  f1-score   support\n",
      "\n",
      "         0.0       0.91      1.00      0.95     57888\n",
      "         1.0       0.97      0.02      0.04      6090\n",
      "\n",
      "    accuracy                           0.91     63978\n",
      "   macro avg       0.94      0.51      0.49     63978\n",
      "weighted avg       0.91      0.91      0.86     63978\n",
      "\n",
      "========================================\n",
      "evaluating severe_toxic model .... \n"
     ]
    },
    {
     "name": "stderr",
     "output_type": "stream",
     "text": [
      "100%|██████████| 2000/2000 [00:09<00:00, 221.56it/s]\n",
      "  0%|          | 0/2000 [00:00<?, ?it/s]"
     ]
    },
    {
     "name": "stdout",
     "output_type": "stream",
     "text": [
      "[[63532    79]\n",
      " [  330    37]]\n",
      "              precision    recall  f1-score   support\n",
      "\n",
      "         0.0       0.99      1.00      1.00     63611\n",
      "         1.0       0.32      0.10      0.15       367\n",
      "\n",
      "    accuracy                           0.99     63978\n",
      "   macro avg       0.66      0.55      0.58     63978\n",
      "weighted avg       0.99      0.99      0.99     63978\n",
      "\n",
      "========================================\n",
      "evaluating obscene model .... \n"
     ]
    },
    {
     "name": "stderr",
     "output_type": "stream",
     "text": [
      "100%|██████████| 2000/2000 [00:09<00:00, 221.57it/s]\n",
      "  0%|          | 0/2000 [00:00<?, ?it/s]"
     ]
    },
    {
     "name": "stdout",
     "output_type": "stream",
     "text": [
      "[[60264    23]\n",
      " [ 3598    93]]\n",
      "              precision    recall  f1-score   support\n",
      "\n",
      "         0.0       0.94      1.00      0.97     60287\n",
      "         1.0       0.80      0.03      0.05      3691\n",
      "\n",
      "    accuracy                           0.94     63978\n",
      "   macro avg       0.87      0.51      0.51     63978\n",
      "weighted avg       0.94      0.94      0.92     63978\n",
      "\n",
      "========================================\n",
      "evaluating threat model .... \n"
     ]
    },
    {
     "name": "stderr",
     "output_type": "stream",
     "text": [
      "100%|██████████| 2000/2000 [00:09<00:00, 221.57it/s]\n",
      "  0%|          | 0/2000 [00:00<?, ?it/s]"
     ]
    },
    {
     "name": "stdout",
     "output_type": "stream",
     "text": [
      "[[63658   109]\n",
      " [  204     7]]\n",
      "              precision    recall  f1-score   support\n",
      "\n",
      "         0.0       1.00      1.00      1.00     63767\n",
      "         1.0       0.06      0.03      0.04       211\n",
      "\n",
      "    accuracy                           1.00     63978\n",
      "   macro avg       0.53      0.52      0.52     63978\n",
      "weighted avg       0.99      1.00      0.99     63978\n",
      "\n",
      "========================================\n",
      "evaluating insult model .... \n"
     ]
    },
    {
     "name": "stderr",
     "output_type": "stream",
     "text": [
      "100%|██████████| 2000/2000 [00:09<00:00, 221.54it/s]\n",
      "  0%|          | 0/2000 [00:00<?, ?it/s]"
     ]
    },
    {
     "name": "stdout",
     "output_type": "stream",
     "text": [
      "[[60534    17]\n",
      " [ 3328    99]]\n",
      "              precision    recall  f1-score   support\n",
      "\n",
      "         0.0       0.95      1.00      0.97     60551\n",
      "         1.0       0.85      0.03      0.06      3427\n",
      "\n",
      "    accuracy                           0.95     63978\n",
      "   macro avg       0.90      0.51      0.51     63978\n",
      "weighted avg       0.94      0.95      0.92     63978\n",
      "\n",
      "========================================\n",
      "evaluating identity_hate model .... \n"
     ]
    },
    {
     "name": "stderr",
     "output_type": "stream",
     "text": [
      "100%|██████████| 2000/2000 [00:09<00:00, 221.48it/s]\n"
     ]
    },
    {
     "name": "stdout",
     "output_type": "stream",
     "text": [
      "[[63255    11]\n",
      " [  607   105]]\n",
      "              precision    recall  f1-score   support\n",
      "\n",
      "         0.0       0.99      1.00      1.00     63266\n",
      "         1.0       0.91      0.15      0.25       712\n",
      "\n",
      "    accuracy                           0.99     63978\n",
      "   macro avg       0.95      0.57      0.62     63978\n",
      "weighted avg       0.99      0.99      0.99     63978\n",
      "\n"
     ]
    }
   ],
   "source": [
    "evaluate(models)"
   ]
  },
  {
   "cell_type": "markdown",
   "metadata": {},
   "source": [
    "## Remarks \n",
    "\n",
    "* from the classification reports above we can see that our models have ~100% recall for the negative class, this is due to the negative class unbalance.\n",
    "* On the other hand, the model has low recall for the positive class for each label\n",
    "* although the model achieves good accuracy in predicting each label in the dataset, other hpyerparameter and modifications might be required to make it better. (adding drop, decreasing the complexity etc..)\n",
    "* The attention layer fairly good to detect the part the might trigger a label.\n",
    "\n",
    "* ⚠️ the dimenions in the figure doesn't match the trained model below, however the structure is the same, it was changed because the dimensions in the figure below caused the model to overfit\n"
   ]
  },
  {
   "cell_type": "code",
   "execution_count": 112,
   "metadata": {},
   "outputs": [
    {
     "data": {
      "text/plain": [
       "['toxic', 'severe_toxic', 'obscene', 'threat', 'insult', 'identity_hate']"
      ]
     },
     "execution_count": 112,
     "metadata": {},
     "output_type": "execute_result"
    }
   ],
   "source": [
    "cols_target"
   ]
  },
  {
   "cell_type": "code",
   "execution_count": 136,
   "metadata": {},
   "outputs": [],
   "source": [
    "rgb_color_shades = {\n",
    "    'toxic':[(176, 58, 46),(203, 67, 53),(231, 76, 60),(236, 112, 99),(241, 148, 138),(245, 183, 177),(250, 219, 216),(253, 237, 236)],\n",
    "    'severe_toxic':[(118, 68, 138) , (136, 78, 160) , (155, 89, 182) , (175, 122, 197) ,(195, 155, 211) ,(215, 189, 226) ,(235, 222, 240) ,(245, 238, 248)],\n",
    "    'obscene':[(31, 97, 141), (36, 113, 163) ,(41, 128, 185), (84, 153, 199),(127, 179, 213),(169, 204, 227),(212, 230, 241),(234, 242, 248)],\n",
    "    'threat':[(20, 143, 119) , (23, 165, 137) , (26, 188, 156) , (72, 201, 176),( 118, 215, 196),(163, 228, 215),(209, 242, 235),(232, 248, 245)],\n",
    "    'insult':[(183, 149, 11), (212, 172, 13) , (241, 196, 15), (244, 208, 63), (247, 220, 111), (249, 231, 159),(252, 243, 207),(254, 249, 231)],\n",
    "    'identity_hate':[(113, 125, 126),(131, 145, 146),(149, 165, 166),(170, 183, 184),(191, 201, 202),(213, 219, 219),(234, 237, 237),(244, 246, 246)],\n",
    "}"
   ]
  },
  {
   "cell_type": "code",
   "execution_count": 137,
   "metadata": {},
   "outputs": [],
   "source": [
    "def get_color_escape(rgb_tuple, background=False):\n",
    "    return '\\033[{};2;{};{};{}m'.format(48 if background else 38, rgb_tuple[0], rgb_tuple[1], rgb_tuple[2])"
   ]
  },
  {
   "cell_type": "code",
   "execution_count": 138,
   "metadata": {},
   "outputs": [],
   "source": [
    "def colorText(token,rgb_tuple):\n",
    "    return get_color_escape((0, 0, 0)) + get_color_escape(rgb_tuple, True)+ token + '\\033[0m'"
   ]
  },
  {
   "cell_type": "code",
   "execution_count": 253,
   "metadata": {},
   "outputs": [],
   "source": [
    "def predict_user_input():\n",
    "    while True:\n",
    "        str_input = input(\"Enter a String:\")\n",
    "        if str_input == 'quit':\n",
    "            break\n",
    "        input_ids = prepare_set([str_input])\n",
    "        with torch.no_grad():\n",
    "            for target_label in cols_target:\n",
    "                single_x = torch.tensor(input_ids,dtype=torch.long).to(device)\n",
    "                single_y, attention_w = models[target_label]['model'](single_x,max_length)\n",
    "\n",
    "                ys = torch.sigmoid(single_y).detach().cpu().numpy().flatten()\n",
    "                attention_w = attention_w.detach().cpu().numpy().flatten()\n",
    "                \n",
    "                if(ys[0]>0.2):\n",
    "                    decoded_str = tokenizer.decode(*input_ids).split()\n",
    "                    attention_ids = [decoded_str.index(w) for w in decoded_str if (w != \"[CLS]\" and w != \"[SEP]\" and w != \"[PAD]\")]\n",
    "\n",
    "                    highlighted_str = []\n",
    "\n",
    "                    max_atten = max(attention_w[attention_ids])\n",
    "                    min_atten = min(attention_w[attention_ids])\n",
    "\n",
    "\n",
    "\n",
    "                    for _id in attention_ids:\n",
    "\n",
    "                        color_shade = math.floor(((max_atten-attention_w[_id])/(max_atten-min_atten))*7)\n",
    "                        token_rgb_color = rgb_color_shades[target_label][color_shade]\n",
    "\n",
    "                        highlighted_str.append(colorText(decoded_str[_id],token_rgb_color))\n",
    "\n",
    "                    print(f\"label {target_label} : {ys[0]*100:.2f}%\")\n",
    "                    print(f\"String after attention and multi-label classification: {' '.join(highlighted_str)}\")\n"
   ]
  },
  {
   "cell_type": "code",
   "execution_count": 255,
   "metadata": {},
   "outputs": [
    {
     "name": "stdout",
     "output_type": "stream",
     "text": [
      "Enter a String:he's a racist dog and he should kill himself\n",
      "label toxic : 98.79%\n",
      "String after attention and multi-label classification: \u001b[38;2;0;0;0m\u001b[48;2;245;183;177mhe's\u001b[0m \u001b[38;2;0;0;0m\u001b[48;2;241;148;138ma\u001b[0m \u001b[38;2;0;0;0m\u001b[48;2;231;76;60mracist\u001b[0m \u001b[38;2;0;0;0m\u001b[48;2;203;67;53mdog\u001b[0m \u001b[38;2;0;0;0m\u001b[48;2;176;58;46mand\u001b[0m \u001b[38;2;0;0;0m\u001b[48;2;176;58;46mhe\u001b[0m \u001b[38;2;0;0;0m\u001b[48;2;236;112;99mshould\u001b[0m \u001b[38;2;0;0;0m\u001b[48;2;253;237;236mkill\u001b[0m \u001b[38;2;0;0;0m\u001b[48;2;241;148;138mhimself\u001b[0m\n",
      "label threat : 24.80%\n",
      "String after attention and multi-label classification: \u001b[38;2;0;0;0m\u001b[48;2;209;242;235mhe's\u001b[0m \u001b[38;2;0;0;0m\u001b[48;2;209;242;235ma\u001b[0m \u001b[38;2;0;0;0m\u001b[48;2;209;242;235mracist\u001b[0m \u001b[38;2;0;0;0m\u001b[48;2;209;242;235mdog\u001b[0m \u001b[38;2;0;0;0m\u001b[48;2;232;248;245mand\u001b[0m \u001b[38;2;0;0;0m\u001b[48;2;163;228;215mhe\u001b[0m \u001b[38;2;0;0;0m\u001b[48;2;118;215;196mshould\u001b[0m \u001b[38;2;0;0;0m\u001b[48;2;20;143;119mkill\u001b[0m \u001b[38;2;0;0;0m\u001b[48;2;20;143;119mhimself\u001b[0m\n",
      "label insult : 23.55%\n",
      "String after attention and multi-label classification: \u001b[38;2;0;0;0m\u001b[48;2;247;220;111mhe's\u001b[0m \u001b[38;2;0;0;0m\u001b[48;2;247;220;111ma\u001b[0m \u001b[38;2;0;0;0m\u001b[48;2;244;208;63mracist\u001b[0m \u001b[38;2;0;0;0m\u001b[48;2;241;196;15mdog\u001b[0m \u001b[38;2;0;0;0m\u001b[48;2;183;149;11mand\u001b[0m \u001b[38;2;0;0;0m\u001b[48;2;241;196;15mhe\u001b[0m \u001b[38;2;0;0;0m\u001b[48;2;252;243;207mshould\u001b[0m \u001b[38;2;0;0;0m\u001b[48;2;252;243;207mkill\u001b[0m \u001b[38;2;0;0;0m\u001b[48;2;254;249;231mhimself\u001b[0m\n",
      "Enter a String:quit\n"
     ]
    }
   ],
   "source": [
    "predict_user_input()"
   ]
  },
  {
   "cell_type": "code",
   "execution_count": null,
   "metadata": {},
   "outputs": [],
   "source": []
  }
 ],
 "metadata": {
  "kernelspec": {
   "display_name": "Python 3",
   "language": "python",
   "name": "python3"
  },
  "language_info": {
   "codemirror_mode": {
    "name": "ipython",
    "version": 3
   },
   "file_extension": ".py",
   "mimetype": "text/x-python",
   "name": "python",
   "nbconvert_exporter": "python",
   "pygments_lexer": "ipython3",
   "version": "3.7.9"
  }
 },
 "nbformat": 4,
 "nbformat_minor": 4
}
